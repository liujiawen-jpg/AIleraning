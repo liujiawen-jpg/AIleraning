{
 "metadata": {
  "language_info": {
   "codemirror_mode": {
    "name": "ipython",
    "version": 3
   },
   "file_extension": ".py",
   "mimetype": "text/x-python",
   "name": "python",
   "nbconvert_exporter": "python",
   "pygments_lexer": "ipython3",
   "version": "3.7.4-final"
  },
  "orig_nbformat": 2,
  "kernelspec": {
   "name": "python3",
   "display_name": "Python 3",
   "language": "python"
  }
 },
 "nbformat": 4,
 "nbformat_minor": 2,
 "cells": [
  {
   "cell_type": "code",
   "execution_count": 1,
   "metadata": {},
   "outputs": [],
   "source": [
    "#TensorBoard可视化，通过读取tensorflow的时间文件来安装\n",
    "import datetime#记下网络训练的时间\n",
    "import tensorflow as tf\n",
    "from tensorflow import keras"
   ]
  },
  {
   "cell_type": "code",
   "execution_count": 2,
   "metadata": {},
   "outputs": [],
   "source": [
    "(x_train,y_train),(x_test,y_test)=keras.datasets.mnist.load_data()"
   ]
  },
  {
   "cell_type": "code",
   "execution_count": 3,
   "metadata": {},
   "outputs": [],
   "source": [
    "x_train=tf.expand_dims(x_train,-1)\n",
    "x_test=tf.expand_dims(x_test,-1)"
   ]
  },
  {
   "cell_type": "code",
   "execution_count": 4,
   "metadata": {},
   "outputs": [],
   "source": [
    "x_train=tf.cast(x_train/255,tf.float32)\n",
    "x_test=tf.cast(x_test/255,tf.float32)\n",
    "y_train=tf.cast(y_train,tf.int64)\n",
    "y_test=tf.cast(y_test,tf.int64)\n",
    "train_data=tf.data.Dataset.from_tensor_slices((x_train,y_train))"
   ]
  },
  {
   "cell_type": "code",
   "execution_count": 5,
   "metadata": {},
   "outputs": [],
   "source": [
    "train_data=train_data.repeat().shuffle(60000).batch(128)#使用keras.fit的话需要显示调用repeat\n",
    "#但自定义循环的话不需要repeat\n",
    "test_data=tf.data.Dataset.from_tensor_slices((x_test,y_test))\n",
    "test_data=test_data.repeat().batch(128)"
   ]
  },
  {
   "cell_type": "code",
   "execution_count": 6,
   "metadata": {},
   "outputs": [],
   "source": [
    "model=keras.Sequential()\n",
    "model.add(keras.layers.Conv2D(32,(3,3),input_shape=(28,28,1),activation='relu'))\n",
    "model.add(keras.layers.Conv2D(32,(3,3),activation='relu'))\n",
    "model.add(keras.layers.GlobalMaxPool2D())\n",
    "model.add(keras.layers.Dense(10,activation='softmax'))"
   ]
  },
  {
   "cell_type": "code",
   "execution_count": 7,
   "metadata": {},
   "outputs": [],
   "source": [
    "model.compile(optimizer='adam',\n",
    "                loss=keras.losses.SparseCategoricalCrossentropy(),\n",
    "                metrics=['accuracy'])"
   ]
  },
  {
   "cell_type": "code",
   "execution_count": 15,
   "metadata": {},
   "outputs": [
    {
     "output_type": "execute_result",
     "data": {
      "text/plain": [
       "'logs\\\\20210112-164953'"
      ]
     },
     "metadata": {},
     "execution_count": 15
    }
   ],
   "source": [
    "import os\n",
    "log_dir=os.path.join('logs',datetime.datetime.now().strftime(\"%Y%m%d-%H%M%S\"))\n",
    "log_dir"
   ]
  },
  {
   "cell_type": "code",
   "execution_count": 16,
   "metadata": {},
   "outputs": [],
   "source": [
    "\n",
    "tensorBoard_CallBack=tf.keras.callbacks.TensorBoard(log_dir=log_dir,histogram_freq=1)\n"
   ]
  },
  {
   "cell_type": "code",
   "execution_count": 23,
   "metadata": {},
   "outputs": [],
   "source": [
    "#在这里完成对于我们自定义标量的tensorboard可视化\n",
    "def lr_sche(epoch):\n",
    "    lr=0.2\n",
    "    if epoch>5:\n",
    "        lr=0.02\n",
    "    if epoch>10:\n",
    "        lr=0.01\n",
    "    if epoch>20:\n",
    "        lr=0.005\n",
    "    tf.summary.scalar('learning-rate',data=lr,step=epoch)#记录标量值\n",
    "    return lr\n",
    "lr_callBack=tf.keras.callbacks.LearningRateScheduler(lr_sche)\n"
   ]
  },
  {
   "cell_type": "code",
   "execution_count": 25,
   "metadata": {},
   "outputs": [],
   "source": [
    "file_write=tf.summary.create_file_writer(log_dir+'/lr')#创建一个文件编写器\n",
    "file_write.set_as_default()"
   ]
  },
  {
   "cell_type": "code",
   "execution_count": null,
   "metadata": {},
   "outputs": [],
   "source": []
  },
  {
   "cell_type": "code",
   "execution_count": null,
   "metadata": {},
   "outputs": [],
   "source": []
  },
  {
   "cell_type": "code",
   "execution_count": 26,
   "metadata": {},
   "outputs": [
    {
     "output_type": "stream",
     "name": "stdout",
     "text": [
      "Train for 468 steps, validate for 78 steps\n",
      "Epoch 1/25\n",
      "468/468 [==============================] - 61s 131ms/step - loss: 2.7799 - accuracy: 0.1045 - val_loss: 2.3153 - val_accuracy: 0.0891\n",
      "Epoch 2/25\n",
      "468/468 [==============================] - 62s 132ms/step - loss: 2.3149 - accuracy: 0.1016 - val_loss: 2.3168 - val_accuracy: 0.1135\n",
      "Epoch 3/25\n",
      "468/468 [==============================] - 63s 134ms/step - loss: 2.3129 - accuracy: 0.1040 - val_loss: 2.3171 - val_accuracy: 0.1032\n",
      "Epoch 4/25\n",
      "468/468 [==============================] - 64s 138ms/step - loss: 2.3134 - accuracy: 0.1046 - val_loss: 2.3118 - val_accuracy: 0.1135\n",
      "Epoch 5/25\n",
      "468/468 [==============================] - 58s 123ms/step - loss: 2.3142 - accuracy: 0.1042 - val_loss: 2.3102 - val_accuracy: 0.0982\n",
      "Epoch 6/25\n",
      "468/468 [==============================] - 58s 123ms/step - loss: 2.3139 - accuracy: 0.1014 - val_loss: 2.3196 - val_accuracy: 0.0958\n",
      "Epoch 7/25\n",
      "468/468 [==============================] - 58s 123ms/step - loss: 2.3025 - accuracy: 0.1099 - val_loss: 2.3019 - val_accuracy: 0.1029\n",
      "Epoch 8/25\n",
      "468/468 [==============================] - 58s 123ms/step - loss: 2.3024 - accuracy: 0.1060 - val_loss: 2.3016 - val_accuracy: 0.1135\n",
      "Epoch 9/25\n",
      "468/468 [==============================] - 59s 126ms/step - loss: 2.3020 - accuracy: 0.1149 - val_loss: 2.3015 - val_accuracy: 0.1135\n",
      "Epoch 10/25\n",
      "468/468 [==============================] - 65s 138ms/step - loss: 2.3029 - accuracy: 0.1084 - val_loss: 2.3036 - val_accuracy: 0.1010\n",
      "Epoch 11/25\n",
      "468/468 [==============================] - 57s 123ms/step - loss: 2.3024 - accuracy: 0.1095 - val_loss: 2.3027 - val_accuracy: 0.1029\n",
      "Epoch 12/25\n",
      "468/468 [==============================] - 63s 135ms/step - loss: 2.3020 - accuracy: 0.1102 - val_loss: 2.3011 - val_accuracy: 0.1135\n",
      "Epoch 13/25\n",
      "468/468 [==============================] - 68s 145ms/step - loss: 2.3018 - accuracy: 0.1114 - val_loss: 2.3016 - val_accuracy: 0.1135\n",
      "Epoch 14/25\n",
      "468/468 [==============================] - 67s 144ms/step - loss: 2.3020 - accuracy: 0.1101 - val_loss: 2.3011 - val_accuracy: 0.1135\n",
      "Epoch 15/25\n",
      "468/468 [==============================] - 67s 143ms/step - loss: 2.3017 - accuracy: 0.1113 - val_loss: 2.3017 - val_accuracy: 0.1135\n",
      "Epoch 16/25\n",
      "468/468 [==============================] - 69s 148ms/step - loss: 2.3021 - accuracy: 0.1106 - val_loss: 2.3013 - val_accuracy: 0.1135\n",
      "Epoch 17/25\n",
      "468/468 [==============================] - 72s 154ms/step - loss: 2.3019 - accuracy: 0.1092 - val_loss: 2.3015 - val_accuracy: 0.1135\n",
      "Epoch 18/25\n",
      "468/468 [==============================] - 72s 153ms/step - loss: 2.3017 - accuracy: 0.1132 - val_loss: 2.3011 - val_accuracy: 0.1135\n",
      "Epoch 19/25\n",
      "468/468 [==============================] - 54s 115ms/step - loss: 2.3018 - accuracy: 0.1123 - val_loss: 2.3010 - val_accuracy: 0.1135\n",
      "Epoch 20/25\n",
      "468/468 [==============================] - 72s 154ms/step - loss: 2.3020 - accuracy: 0.1099 - val_loss: 2.3017 - val_accuracy: 0.1029\n",
      "Epoch 21/25\n",
      "468/468 [==============================] - 73s 156ms/step - loss: 2.3019 - accuracy: 0.1123 - val_loss: 2.3014 - val_accuracy: 0.1135\n",
      "Epoch 22/25\n",
      "468/468 [==============================] - 73s 157ms/step - loss: 2.3015 - accuracy: 0.1126 - val_loss: 2.3012 - val_accuracy: 0.1135\n",
      "Epoch 23/25\n",
      "468/468 [==============================] - 70s 149ms/step - loss: 2.3016 - accuracy: 0.1128 - val_loss: 2.3013 - val_accuracy: 0.1135\n",
      "Epoch 24/25\n",
      "468/468 [==============================] - 63s 135ms/step - loss: 2.3016 - accuracy: 0.1111 - val_loss: 2.3011 - val_accuracy: 0.1135\n",
      "Epoch 25/25\n",
      "468/468 [==============================] - 65s 140ms/step - loss: 2.3015 - accuracy: 0.1114 - val_loss: 2.3012 - val_accuracy: 0.1135\n"
     ]
    },
    {
     "output_type": "execute_result",
     "data": {
      "text/plain": [
       "<tensorflow.python.keras.callbacks.History at 0x21817a4a288>"
      ]
     },
     "metadata": {},
     "execution_count": 26
    }
   ],
   "source": [
    "model.fit(train_data,epochs=25,steps_per_epoch=60000//128,validation_data=test_data,validation_steps=10000//128,callbacks=[tensorBoard_CallBack,lr_callBack])\n"
   ]
  },
  {
   "cell_type": "code",
   "execution_count": 8,
   "metadata": {},
   "outputs": [
    {
     "output_type": "stream",
     "name": "stdout",
     "text": [
      "Model: \"sequential_1\"\n_________________________________________________________________\nLayer (type)                 Output Shape              Param #   \n=================================================================\ndense_1 (Dense)              (None, 1)                 2         \n=================================================================\nTotal params: 2\nTrainable params: 2\nNon-trainable params: 0\n_________________________________________________________________\n"
     ]
    }
   ],
   "source": [
    "import tensorflow as tf\n",
    "model=tf.keras.Sequential()\n",
    "model.add(tf.keras.layers.Dense(1,input_shape=(1,)))\n",
    "model.summary()\n"
   ]
  },
  {
   "cell_type": "code",
   "execution_count": null,
   "metadata": {},
   "outputs": [],
   "source": []
  },
  {
   "cell_type": "code",
   "execution_count": null,
   "metadata": {},
   "outputs": [],
   "source": []
  },
  {
   "cell_type": "code",
   "execution_count": null,
   "metadata": {},
   "outputs": [],
   "source": []
  }
 ]
}