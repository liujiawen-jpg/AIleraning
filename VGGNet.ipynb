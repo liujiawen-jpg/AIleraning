{
 "metadata": {
  "language_info": {
   "codemirror_mode": {
    "name": "ipython",
    "version": 3
   },
   "file_extension": ".py",
   "mimetype": "text/x-python",
   "name": "python",
   "nbconvert_exporter": "python",
   "pygments_lexer": "ipython3",
   "version": "3.7.4-final"
  },
  "orig_nbformat": 2,
  "kernelspec": {
   "name": "python3",
   "display_name": "Python 3",
   "language": "python"
  }
 },
 "nbformat": 4,
 "nbformat_minor": 2,
 "cells": [
  {
   "cell_type": "code",
   "execution_count": 2,
   "metadata": {},
   "outputs": [],
   "source": [
    "import tensorflow as tf\n",
    "from tensorflow import keras\n",
    "from keras import layers\n",
    "model=keras.Sequential()"
   ]
  },
  {
   "cell_type": "code",
   "execution_count": 3,
   "metadata": {},
   "outputs": [
    {
     "output_type": "stream",
     "name": "stdout",
     "text": [
      "Model: \"sequential_1\"\n_________________________________________________________________\nLayer (type)                 Output Shape              Param #   \n=================================================================\nconv2d (Conv2D)              (None, 256, 256, 64)      1792      \n_________________________________________________________________\nbatch_normalization (BatchNo (None, 256, 256, 64)      256       \n_________________________________________________________________\nconv2d_1 (Conv2D)            (None, 254, 254, 64)      36928     \n_________________________________________________________________\nbatch_normalization_1 (Batch (None, 254, 254, 64)      256       \n_________________________________________________________________\nmax_pooling2d (MaxPooling2D) (None, 127, 127, 64)      0         \n_________________________________________________________________\nconv2d_2 (Conv2D)            (None, 125, 125, 128)     73856     \n_________________________________________________________________\nbatch_normalization_2 (Batch (None, 125, 125, 128)     512       \n_________________________________________________________________\nconv2d_3 (Conv2D)            (None, 123, 123, 128)     147584    \n_________________________________________________________________\nbatch_normalization_3 (Batch (None, 123, 123, 128)     512       \n_________________________________________________________________\nmax_pooling2d_1 (MaxPooling2 (None, 61, 61, 128)       0         \n_________________________________________________________________\nconv2d_4 (Conv2D)            (None, 59, 59, 256)       295168    \n_________________________________________________________________\nbatch_normalization_4 (Batch (None, 59, 59, 256)       1024      \n_________________________________________________________________\nconv2d_5 (Conv2D)            (None, 57, 57, 256)       590080    \n_________________________________________________________________\nbatch_normalization_5 (Batch (None, 57, 57, 256)       1024      \n_________________________________________________________________\nconv2d_6 (Conv2D)            (None, 57, 57, 256)       65792     \n_________________________________________________________________\nbatch_normalization_6 (Batch (None, 57, 57, 256)       1024      \n_________________________________________________________________\nmax_pooling2d_2 (MaxPooling2 (None, 28, 28, 256)       0         \n_________________________________________________________________\nconv2d_7 (Conv2D)            (None, 26, 26, 512)       1180160   \n_________________________________________________________________\nbatch_normalization_7 (Batch (None, 26, 26, 512)       2048      \n_________________________________________________________________\nconv2d_8 (Conv2D)            (None, 24, 24, 512)       2359808   \n_________________________________________________________________\nbatch_normalization_8 (Batch (None, 24, 24, 512)       2048      \n_________________________________________________________________\nconv2d_9 (Conv2D)            (None, 24, 24, 512)       262656    \n_________________________________________________________________\nbatch_normalization_9 (Batch (None, 24, 24, 512)       2048      \n_________________________________________________________________\nmax_pooling2d_3 (MaxPooling2 (None, 12, 12, 512)       0         \n_________________________________________________________________\nconv2d_10 (Conv2D)           (None, 10, 10, 512)       2359808   \n_________________________________________________________________\nbatch_normalization_10 (Batc (None, 10, 10, 512)       2048      \n_________________________________________________________________\nconv2d_11 (Conv2D)           (None, 8, 8, 512)         2359808   \n_________________________________________________________________\nbatch_normalization_11 (Batc (None, 8, 8, 512)         2048      \n_________________________________________________________________\nconv2d_12 (Conv2D)           (None, 8, 8, 512)         262656    \n_________________________________________________________________\nbatch_normalization_12 (Batc (None, 8, 8, 512)         2048      \n_________________________________________________________________\nmax_pooling2d_4 (MaxPooling2 (None, 4, 4, 512)         0         \n_________________________________________________________________\ndense (Dense)                (None, 4, 4, 4096)        2101248   \n_________________________________________________________________\ndense_1 (Dense)              (None, 4, 4, 4096)        16781312  \n_________________________________________________________________\ndense_2 (Dense)              (None, 4, 4, 1000)        4097000   \n_________________________________________________________________\ndense_3 (Dense)              (None, 4, 4, 1)           1001      \n=================================================================\nTotal params: 32,993,553\nTrainable params: 32,985,105\nNon-trainable params: 8,448\n_________________________________________________________________\n"
     ]
    }
   ],
   "source": [
    "model.add(layers.Conv2D(64,(3,3),input_shape=(256,256,3),padding='same',activation='relu'))\n",
    "model.add(layers.BatchNormalization())\n",
    "model.add(layers.Conv2D(64,(3,3),activation='relu'))\n",
    "model.add(layers.BatchNormalization())\n",
    "model.add(layers.MaxPooling2D())\n",
    "model.add(layers.Conv2D(128,(3,3),activation='relu'))\n",
    "model.add(layers.BatchNormalization())\n",
    "model.add(layers.Conv2D(128,(3,3),activation='relu'))\n",
    "model.add(layers.BatchNormalization())\n",
    "model.add(layers.MaxPooling2D())\n",
    "model.add(layers.Conv2D(256,(3,3),activation='relu'))\n",
    "model.add(layers.BatchNormalization())\n",
    "model.add(layers.Conv2D(256,(3,3),activation='relu'))\n",
    "model.add(layers.BatchNormalization())\n",
    "model.add(layers.Conv2D(256,(1,1),activation='relu'))\n",
    "model.add(layers.BatchNormalization())\n",
    "model.add(layers.MaxPooling2D())\n",
    "model.add(layers.Conv2D(512,(3,3),activation='relu'))\n",
    "model.add(layers.BatchNormalization())\n",
    "model.add(layers.Conv2D(512,(3,3),activation='relu'))\n",
    "model.add(layers.BatchNormalization())\n",
    "model.add(layers.Conv2D(512,(1,1),activation='relu'))\n",
    "model.add(layers.BatchNormalization())\n",
    "model.add(layers.MaxPooling2D())\n",
    "model.add(layers.Conv2D(512,(3,3),activation='relu'))\n",
    "model.add(layers.BatchNormalization())\n",
    "model.add(layers.Conv2D(512,(3,3),activation='relu'))\n",
    "model.add(layers.BatchNormalization())\n",
    "model.add(layers.Conv2D(512,(1,1),activation='relu'))\n",
    "model.add(layers.BatchNormalization())\n",
    "model.add(layers.MaxPooling2D())\n",
    "model.add(layers.Dense(4096,activation='relu'))\n",
    "model.add(layers.Dense(4096,activation='relu'))\n",
    "model.add(layers.Dense(1000,activation='relu'))\n",
    "model.add(layers.Dense(1,activation='sigmoid'))\n",
    "\n",
    "model.summary()\n"
   ]
  },
  {
   "cell_type": "code",
   "execution_count": null,
   "metadata": {},
   "outputs": [],
   "source": []
  },
  {
   "cell_type": "code",
   "execution_count": null,
   "metadata": {},
   "outputs": [],
   "source": []
  },
  {
   "cell_type": "code",
   "execution_count": null,
   "metadata": {},
   "outputs": [],
   "source": []
  }
 ]
}