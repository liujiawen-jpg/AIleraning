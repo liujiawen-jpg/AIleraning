{
 "metadata": {
  "language_info": {
   "codemirror_mode": {
    "name": "ipython",
    "version": 3
   },
   "file_extension": ".py",
   "mimetype": "text/x-python",
   "name": "python",
   "nbconvert_exporter": "python",
   "pygments_lexer": "ipython3",
   "version": "3.7.4"
  },
  "orig_nbformat": 2,
  "kernelspec": {
   "name": "python3",
   "display_name": "Python 3.7.4 64-bit ('base': conda)",
   "metadata": {
    "interpreter": {
     "hash": "aad7fa43305c5ed1fb127d263f3083b3588cd5af60f171b45496a79879bf8414"
    }
   }
  }
 },
 "nbformat": 4,
 "nbformat_minor": 2,
 "cells": [
  {
   "cell_type": "code",
   "execution_count": 2,
   "metadata": {},
   "outputs": [],
   "source": [
    "import tensorflow as tf\n",
    "keras=tf.keras\n",
    "layers=keras.layers"
   ]
  },
  {
   "cell_type": "code",
   "execution_count": 3,
   "metadata": {},
   "outputs": [
    {
     "output_type": "error",
     "ename": "AttributeError",
     "evalue": "module 'tensorflow.keras' has no attribute 'optimi'",
     "traceback": [
      "\u001b[1;31m---------------------------------------------------------------------------\u001b[0m",
      "\u001b[1;31mAttributeError\u001b[0m                            Traceback (most recent call last)",
      "\u001b[1;32m<ipython-input-3-8e3e4c8a36ad>\u001b[0m in \u001b[0;36m<module>\u001b[1;34m\u001b[0m\n\u001b[1;32m----> 1\u001b[1;33m \u001b[0mkeras\u001b[0m\u001b[1;33m.\u001b[0m\u001b[0moptimi\u001b[0m\u001b[1;33m\u001b[0m\u001b[1;33m\u001b[0m\u001b[0m\n\u001b[0m",
      "\u001b[1;31mAttributeError\u001b[0m: module 'tensorflow.keras' has no attribute 'optimi'"
     ]
    }
   ],
   "source": [
    "keras.optimi"
   ]
  },
  {
   "cell_type": "code",
   "execution_count": 2,
   "metadata": {},
   "outputs": [],
   "source": [
    "class ConvBlock(layers.Layer):\n",
    "    def __init__(self,units,kenral_size,strides,use_activation=True):\n",
    "        super(ConvBlock,self).__init__()\n",
    "        self.conv2d=layers.Conv2D(units,kernel_size=kenral_size,strides=strides,padding='same')\n",
    "        self.bn=layers.BatchNormalization()\n",
    "        self.ua=use_activation\n",
    "    def call(self,input):\n",
    "        x=self.conv2d(input)\n",
    "        x=self.bn(x)\n",
    "        if self.ua==True:\n",
    "            x=tf.nn.relu(x)\n",
    "        return x\n"
   ]
  },
  {
   "cell_type": "code",
   "execution_count": 3,
   "metadata": {},
   "outputs": [],
   "source": [
    "c1=ConvBlock(64,3,2)\n"
   ]
  },
  {
   "cell_type": "code",
   "execution_count": 4,
   "metadata": {},
   "outputs": [
    {
     "output_type": "execute_result",
     "data": {
      "text/plain": [
       "<KerasTensor: shape=(None, 112, 112, 64) dtype=float32 (created by layer 'conv_block')>"
      ]
     },
     "metadata": {},
     "execution_count": 4
    }
   ],
   "source": [
    "input=keras.Input(shape=(224,224,3))\n",
    "c1(input)"
   ]
  },
  {
   "cell_type": "code",
   "execution_count": 5,
   "metadata": {},
   "outputs": [],
   "source": [
    "class DetailBranch(layers.Layer):\n",
    "    def __init__(self):\n",
    "        super(DetailBranch,self).__init__()\n",
    "        self.s1Conv1=ConvBlock(units=64,kenral_size=3,strides=2)\n",
    "        self.s1Conv2=ConvBlock(units=64,kenral_size=3,strides=1)\n",
    "        self.s2Conv1=ConvBlock(units=64,kenral_size=3,strides=2)\n",
    "        self.s2Conv2=ConvBlock(units=64,kenral_size=3,strides=1)\n",
    "        self.s2Conv3=ConvBlock(units=64,kenral_size=3,strides=1)\n",
    "        self.s3Conv1=ConvBlock(units=128,kenral_size=3,strides=2)\n",
    "        self.s3Conv2=ConvBlock(units=128,kenral_size=3,strides=1)\n",
    "        self.s3Conv3=ConvBlock(units=128,kenral_size=3,strides=1)\n",
    "    def call(self,input):\n",
    "        x=self.s1Conv1(input)\n",
    "        x=self.s1Conv2(x)\n",
    "        x=self.s2Conv1(x)\n",
    "        x=self.s2Conv2(x)\n",
    "        x=self.s2Conv3(x)\n",
    "        x=self.s3Conv1(x)\n",
    "        x=self.s3Conv2(x)\n",
    "        x=self.s3Conv3(x)\n",
    "        return x"
   ]
  },
  {
   "cell_type": "code",
   "execution_count": 6,
   "metadata": {},
   "outputs": [],
   "source": [
    "\n",
    "db=DetailBranch()\n"
   ]
  },
  {
   "cell_type": "code",
   "execution_count": 7,
   "metadata": {},
   "outputs": [
    {
     "output_type": "execute_result",
     "data": {
      "text/plain": [
       "<KerasTensor: shape=(None, 32, 32, 128) dtype=float32 (created by layer 'detail_branch')>"
      ]
     },
     "metadata": {},
     "execution_count": 7
    }
   ],
   "source": [
    "in1=keras.Input(shape=(256,256,3))\n",
    "db(in1)"
   ]
  },
  {
   "cell_type": "code",
   "execution_count": 8,
   "metadata": {},
   "outputs": [],
   "source": [
    "class StemBlock(layers.Layer):\n",
    "    def __init__(self,channels=16):\n",
    "        super(StemBlock,self).__init__()\n",
    "        self.conv1=ConvBlock(units=channels,kenral_size=3,strides=2)\n",
    "        self.conv2=ConvBlock(units=channels//2,kenral_size=1,strides=1)\n",
    "        self.conv3=ConvBlock(units=channels,kenral_size=3,strides=2)\n",
    "        self.conv4=ConvBlock(units=channels,kenral_size=3,strides=1)\n",
    "        self.maxpool=layers.MaxPool2D(pool_size=3,strides=2,padding='same')\n",
    "    def call(self,input):\n",
    "        x=self.conv1(input)\n",
    "        x1=self.maxpool(x)\n",
    "        x2=self.conv2(x)\n",
    "        x2=self.conv3(x2)\n",
    "        x3=tf.concat([x2,x1],axis=-1)\n",
    "        x3=self.conv4(x3)\n",
    "        return x3\n"
   ]
  },
  {
   "cell_type": "code",
   "execution_count": 9,
   "metadata": {},
   "outputs": [
    {
     "output_type": "execute_result",
     "data": {
      "text/plain": [
       "<KerasTensor: shape=(None, 64, 64, 16) dtype=float32 (created by layer 'stem_block')>"
      ]
     },
     "metadata": {},
     "execution_count": 9
    }
   ],
   "source": [
    "s1=StemBlock()\n",
    "s1(in1)"
   ]
  },
  {
   "cell_type": "code",
   "execution_count": 56,
   "metadata": {},
   "outputs": [],
   "source": [
    "class DWConv(layers.Layer):\n",
    "    def __init__(self,kernel_size,strides,e=1):\n",
    "        super(DWConv,self).__init__()\n",
    "        self.dwconv=layers.DepthwiseConv2D(kernel_size=kernel_size,strides=strides,depth_multiplier=e,padding='same')\n",
    "        self.bn=layers.BatchNormalization()\n",
    "    def call(self,input):\n",
    "        x=self.dwconv(input)\n",
    "        return self.bn(x)\n",
    "\n"
   ]
  },
  {
   "cell_type": "code",
   "execution_count": 34,
   "metadata": {},
   "outputs": [
    {
     "output_type": "execute_result",
     "data": {
      "text/plain": [
       "<KerasTensor: shape=(None, 112, 112, 6) dtype=float32 (created by layer 'dw_conv_1')>"
      ]
     },
     "metadata": {},
     "execution_count": 34
    }
   ],
   "source": []
  },
  {
   "cell_type": "code",
   "execution_count": 35,
   "metadata": {},
   "outputs": [],
   "source": [
    "class GatherExpansion(layers.Layer):\n",
    "    def __init__(self,units,expansion_ration,layers_name='',strides=2):\n",
    "        super(GatherExpansion,self).__init__()\n",
    "        self.conv1=ConvBlock(units=units,kenral_size=3,strides=1)\n",
    "        self.conv2=ConvBlock(units=units,kenral_size=1,strides=1,use_activation=False)\n",
    "        self.conv3=ConvBlock(units=units,kenral_size=1,strides=1,use_activation=False)\n",
    "        self.dwconv1=DWConv(kernel_size=3,\n",
    "                            strides=strides,\n",
    "                            e=expansion_ration)\n",
    "        self.dwconv2=DWConv(kernel_size=3,\n",
    "                            strides=1,\n",
    "                            e=1)\n",
    "        self.dwconv3=DWConv(kernel_size=3,\n",
    "                            strides=strides,\n",
    "                            e=1)\n",
    "        self.relu=layers.ReLU(name=layers_name)                    \n",
    "    def call(self,input):\n",
    "        x=self.conv1(input)\n",
    "        x1=self.dwconv1(x)\n",
    "        x1=self.dwconv2(x1)\n",
    "        x1=self.conv2(x1)\n",
    "        x2=self.dwconv3(input)\n",
    "        x2=self.conv3(x2)\n",
    "        x3=tf.add(x1,x2)      \n",
    "        return self.relu(x3)\n",
    "\n",
    "\n",
    "        "
   ]
  },
  {
   "cell_type": "code",
   "execution_count": 12,
   "metadata": {},
   "outputs": [],
   "source": [
    "class SegHead(layers.Layer):\n",
    "    def __init__(self,units,numclasses,size):\n",
    "        super(SegHead,self).__init__()\n",
    "        self.conv1=ConvBlock(units=units,kenral_size=3,strides=1)\n",
    "        self.conv2=ConvBlock(units=numclasses,kenral_size=1,strides=1,use_activation=False)\n",
    "        self.up=layers.UpSampling2D(size,interpolation='bilinear')\n",
    "    def call(self,input):\n",
    "        x1=self.conv1(input)\n",
    "        x1=self.conv2(x1)\n",
    "        x1=self.up(x1)\n",
    "        return x1"
   ]
  },
  {
   "cell_type": "code",
   "execution_count": 4,
   "metadata": {},
   "outputs": [
    {
     "output_type": "error",
     "ename": "NameError",
     "evalue": "name 'SegHead' is not defined",
     "traceback": [
      "\u001b[1;31m---------------------------------------------------------------------------\u001b[0m",
      "\u001b[1;31mNameError\u001b[0m                                 Traceback (most recent call last)",
      "\u001b[1;32m<ipython-input-4-934cd8d37514>\u001b[0m in \u001b[0;36m<module>\u001b[1;34m\u001b[0m\n\u001b[1;32m----> 1\u001b[1;33m \u001b[0mx1\u001b[0m\u001b[1;33m=\u001b[0m\u001b[0mSegHead\u001b[0m\u001b[1;33m(\u001b[0m\u001b[1;36m16\u001b[0m\u001b[1;33m,\u001b[0m\u001b[1;36m34\u001b[0m\u001b[1;33m,\u001b[0m\u001b[1;36m4\u001b[0m\u001b[1;33m)\u001b[0m\u001b[1;33m(\u001b[0m\u001b[0mx1\u001b[0m\u001b[1;33m)\u001b[0m\u001b[1;33m\u001b[0m\u001b[1;33m\u001b[0m\u001b[0m\n\u001b[0m\u001b[0;32m      2\u001b[0m \u001b[0mx2\u001b[0m\u001b[1;33m=\u001b[0m\u001b[0mSegHead\u001b[0m\u001b[1;33m(\u001b[0m\u001b[1;36m32\u001b[0m\u001b[1;33m,\u001b[0m\u001b[1;36m34\u001b[0m\u001b[1;33m,\u001b[0m\u001b[1;36m8\u001b[0m\u001b[1;33m)\u001b[0m\u001b[1;33m(\u001b[0m\u001b[0mx2\u001b[0m\u001b[1;33m)\u001b[0m\u001b[1;33m\u001b[0m\u001b[1;33m\u001b[0m\u001b[0m\n\u001b[0;32m      3\u001b[0m \u001b[0mx3\u001b[0m\u001b[1;33m=\u001b[0m\u001b[0mSegHead\u001b[0m\u001b[1;33m(\u001b[0m\u001b[1;36m64\u001b[0m\u001b[1;33m,\u001b[0m\u001b[1;36m34\u001b[0m\u001b[1;33m,\u001b[0m\u001b[1;36m16\u001b[0m\u001b[1;33m)\u001b[0m\u001b[1;33m(\u001b[0m\u001b[0mx3\u001b[0m\u001b[1;33m)\u001b[0m\u001b[1;33m\u001b[0m\u001b[1;33m\u001b[0m\u001b[0m\n\u001b[0;32m      4\u001b[0m \u001b[0mx4\u001b[0m\u001b[1;33m=\u001b[0m\u001b[0mSegHead\u001b[0m\u001b[1;33m(\u001b[0m\u001b[1;36m128\u001b[0m\u001b[1;33m,\u001b[0m\u001b[1;36m34\u001b[0m\u001b[1;33m,\u001b[0m\u001b[1;36m32\u001b[0m\u001b[1;33m)\u001b[0m\u001b[1;33m(\u001b[0m\u001b[0mx4\u001b[0m\u001b[1;33m)\u001b[0m\u001b[1;33m\u001b[0m\u001b[1;33m\u001b[0m\u001b[0m\n",
      "\u001b[1;31mNameError\u001b[0m: name 'SegHead' is not defined"
     ]
    }
   ],
   "source": [
    "x1=SegHead(16,34,4)(x1)\n",
    "x2=SegHead(32,34,8)(x2)\n",
    "x3=SegHead(64,34,16)(x3)\n",
    "x4=SegHead(128,34,32)(x4)\n"
   ]
  },
  {
   "cell_type": "code",
   "execution_count": 13,
   "metadata": {},
   "outputs": [],
   "source": [
    "class ContextEmbelding(layers.Layer):\n",
    "    def __init__(self,units):\n",
    "        super(ContextEmbelding,self).__init__()\n",
    "        self.conv1=ConvBlock(units,kenral_size=1,strides=1)\n",
    "        self.conv2=ConvBlock(units,kenral_size=3,strides=1)\n",
    "    def call(self,input):\n",
    "        x=tf.reduce_mean(input,axis=[1,2],keepdims=True)\n",
    "        x=layers.BatchNormalization()(x)\n",
    "        x=self.conv1(x)\n",
    "        x1=tf.add(input,x)\n",
    "        x1=self.conv2(x1)\n",
    "        return x1\n"
   ]
  },
  {
   "cell_type": "code",
   "execution_count": 14,
   "metadata": {},
   "outputs": [
    {
     "output_type": "execute_result",
     "data": {
      "text/plain": [
       "<KerasTensor: shape=(None, 224, 224, 3) dtype=float32 (created by layer 'context_embelding')>"
      ]
     },
     "metadata": {},
     "execution_count": 14
    }
   ],
   "source": [
    "c1=ContextEmbelding(3)\n",
    "c1(input)"
   ]
  },
  {
   "cell_type": "code",
   "execution_count": 43,
   "metadata": {},
   "outputs": [
    {
     "output_type": "execute_result",
     "data": {
      "text/plain": [
       "<KerasTensor: shape=(None, 256, 512, 16) dtype=float32 (created by layer 'stem_block_2')>"
      ]
     },
     "metadata": {},
     "execution_count": 43
    }
   ],
   "source": [
    "input1=layers.Input(shape=(1024,2048,3))\n",
    "s1=StemBlock()\n",
    "x1=s1(input1)\n",
    "x1"
   ]
  },
  {
   "cell_type": "code",
   "execution_count": 44,
   "metadata": {},
   "outputs": [
    {
     "output_type": "execute_result",
     "data": {
      "text/plain": [
       "<KerasTensor: shape=(None, 128, 256, 32) dtype=float32 (created by layer 'gather_expansion_24')>"
      ]
     },
     "metadata": {},
     "execution_count": 44
    }
   ],
   "source": [
    "ge1=GatherExpansion(units=32,expansion_ration=6,layers_name='ge1',strides=2)\n",
    "x2=ge1(x1)\n",
    "x2"
   ]
  },
  {
   "cell_type": "code",
   "execution_count": 45,
   "metadata": {},
   "outputs": [
    {
     "output_type": "execute_result",
     "data": {
      "text/plain": [
       "<KerasTensor: shape=(None, 128, 256, 32) dtype=float32 (created by layer 'gather_expansion_25')>"
      ]
     },
     "metadata": {},
     "execution_count": 45
    }
   ],
   "source": [
    "ge2=GatherExpansion(units=32,expansion_ration=6,layers_name='ge2',strides=1)\n",
    "x2=ge2(x2)\n",
    "x2"
   ]
  },
  {
   "cell_type": "code",
   "execution_count": 46,
   "metadata": {},
   "outputs": [
    {
     "output_type": "execute_result",
     "data": {
      "text/plain": [
       "<KerasTensor: shape=(None, 64, 128, 64) dtype=float32 (created by layer 'gather_expansion_27')>"
      ]
     },
     "metadata": {},
     "execution_count": 46
    }
   ],
   "source": [
    "ge3=GatherExpansion(units=64,expansion_ration=6,layers_name='ge3',strides=2)\n",
    "ge4=GatherExpansion(units=64,expansion_ration=6,layers_name='ge4',strides=1)\n",
    "x3=ge3(x2)\n",
    "x3=ge4(x3)\n",
    "x3"
   ]
  },
  {
   "cell_type": "code",
   "execution_count": 47,
   "metadata": {},
   "outputs": [
    {
     "output_type": "execute_result",
     "data": {
      "text/plain": [
       "<KerasTensor: shape=(None, 32, 64, 128) dtype=float32 (created by layer 'gather_expansion_31')>"
      ]
     },
     "metadata": {},
     "execution_count": 47
    }
   ],
   "source": [
    "ge5=GatherExpansion(units=128,expansion_ration=6,layers_name='ge5',strides=2)\n",
    "ge6=GatherExpansion(units=128,expansion_ration=6,layers_name='ge6',strides=1)\n",
    "ge7=GatherExpansion(units=128,expansion_ration=6,layers_name='ge7',strides=1)\n",
    "ge8=GatherExpansion(units=128,expansion_ration=6,layers_name='ge8',strides=1)\n",
    "\n",
    "x4=ge5(x3)\n",
    "x4=ge6(x4)\n",
    "x4=ge7(x4)\n",
    "x4=ge8(x4)\n",
    "x4"
   ]
  },
  {
   "cell_type": "code",
   "execution_count": 49,
   "metadata": {},
   "outputs": [],
   "source": [
    "model1=keras.models.Model(inputs=input1,outputs=[x1,x2,x3,x4])"
   ]
  },
  {
   "cell_type": "code",
   "execution_count": 70,
   "metadata": {},
   "outputs": [],
   "source": [
    "class BiSeNetV2(keras.Model):\n",
    "    def __init__(self,numclasses=34):\n",
    "        super(BiSeNetV2,self).__init__()\n",
    "        self._DetailBranch=DetailBranch()\n",
    "        self.model1=model1\n",
    "        self.FeatureFusion=FeatureFusion()\n",
    "        self.contex=ContextEmbelding(128)\n",
    "        self.up1=layers.UpSampling2D(size=8,interpolation='bilinear')\n",
    "    def call(self,input):\n",
    "        DB_input=self._DetailBranch(input)\n",
    "        x1,x2,x3,x4=self.model1(input)\n",
    "        SB_input=self.contex(x4)\n",
    "        result=self.FeatureFusion(DB_input,SB_input)\n",
    "        result=self.up1(result)\n",
    "        return result\n",
    "\n"
   ]
  },
  {
   "cell_type": "code",
   "execution_count": 69,
   "metadata": {},
   "outputs": [],
   "source": [
    "class FeatureFusion(layers.Layer):\n",
    "    def __init__(self,units=128,numclasses=34):\n",
    "        super(FeatureFusion,self).__init__()\n",
    "        self.dwconv1=DWConv(kernel_size=3,strides=1)\n",
    "        self.conv1=ConvBlock(units=units,kenral_size=3,strides=2,use_activation=False)\n",
    "        self.conv2=layers.Conv2D(units,kernel_size=1,strides=1,padding='same')\n",
    "        self.avgpool=layers.AveragePooling2D(pool_size=3,strides=2,padding='same')\n",
    "        self.conv3=ConvBlock(units=units,kenral_size=3,strides=1,use_activation=False)\n",
    "        self.dwconv2=DWConv(kernel_size=3,strides=1)\n",
    "        self.up1=layers.UpSampling2D(size=4,interpolation='bilinear')\n",
    "        self.up2=layers.UpSampling2D(size=4,interpolation='bilinear')\n",
    "        self.conv4=ConvBlock(units=units,kenral_size=1,strides=1,use_activation=False)\n",
    "        self.conv5=ConvBlock(units=numclasses,kenral_size=3,strides=1,use_activation=False)\n",
    "    def call(self,DB_input,SB_input):\n",
    "        x1=self.dwconv1(DB_input)\n",
    "        x1=self.conv2(x1)\n",
    "        x2=self.conv1(DB_input)\n",
    "        x2=self.avgpool(x2)\n",
    "        x3=self.conv3(SB_input)\n",
    "        x3=self.up1(x3)\n",
    "        x3=tf.nn.sigmoid(x3)\n",
    "        x4=self.dwconv2(SB_input)\n",
    "        x4=self.conv4(x4)\n",
    "        x4=tf.nn.sigmoid(x4)\n",
    "        x=tf.multiply(x1,x3)\n",
    "        y=tf.multiply(x2,x4)\n",
    "        y=self.up2(y)\n",
    "        out=tf.add(x,y)\n",
    "        out=self.conv5(out)\n",
    "        return out\n"
   ]
  },
  {
   "cell_type": "code",
   "execution_count": 65,
   "metadata": {},
   "outputs": [
    {
     "output_type": "execute_result",
     "data": {
      "text/plain": [
       "<KerasTensor: shape=(None, 256, 256, 34) dtype=float32 (created by layer 'feature_fusion_3')>"
      ]
     },
     "metadata": {},
     "execution_count": 65
    }
   ],
   "source": [
    "in11=keras.Input(shape=(256,256,3))\n",
    "in22=keras.Input(shape=(64,64,3))\n",
    "f1=FeatureFusion()\n",
    "f1(in11,in22)"
   ]
  },
  {
   "cell_type": "code",
   "execution_count": 54,
   "metadata": {},
   "outputs": [
    {
     "output_type": "execute_result",
     "data": {
      "text/plain": [
       "64.0"
      ]
     },
     "metadata": {},
     "execution_count": 54
    }
   ],
   "source": [
    "256/4"
   ]
  },
  {
   "cell_type": "code",
   "execution_count": 71,
   "metadata": {},
   "outputs": [
    {
     "output_type": "execute_result",
     "data": {
      "text/plain": [
       "<KerasTensor: shape=(None, 1024, 2048, 34) dtype=float32 (created by layer 'bi_se_net_v2')>"
      ]
     },
     "metadata": {},
     "execution_count": 71
    }
   ],
   "source": [
    "in11=keras.Input(shape=(1024,2048,3))\n",
    "bis1=BiSeNetV2()\n",
    "bis1(in11)"
   ]
  },
  {
   "cell_type": "code",
   "execution_count": null,
   "metadata": {},
   "outputs": [],
   "source": [
    "def rocket(input,units,size,numclasses=34,x):\n",
    "    model=keras.models.Model(inputs=input1,outputs=x)\n",
    "    with tf.GradientTape() as t:\n",
    "        pred=model(input)\n",
    "        pred=SegHead(units,numclasses,size)(pred)\n",
    "        loss1=loss(labels,x1)\n",
    "    gradies=t.gradient(loss1,net.trainable_variables)#求解梯度\n",
    "    optimizer.apply_gradients(zip(gradies,net.trainable_variables))#\n"
   ]
  },
  {
   "cell_type": "code",
   "execution_count": null,
   "metadata": {},
   "outputs": [],
   "source": [
    "keras.models.Model(inputs=input1,outputs=x1)"
   ]
  },
  {
   "cell_type": "code",
   "execution_count": null,
   "metadata": {},
   "outputs": [],
   "source": []
  },
  {
   "cell_type": "code",
   "execution_count": null,
   "metadata": {},
   "outputs": [],
   "source": []
  },
  {
   "cell_type": "code",
   "execution_count": null,
   "metadata": {},
   "outputs": [],
   "source": []
  },
  {
   "cell_type": "code",
   "execution_count": null,
   "metadata": {},
   "outputs": [],
   "source": []
  },
  {
   "cell_type": "code",
   "execution_count": null,
   "metadata": {},
   "outputs": [],
   "source": []
  }
 ]
}